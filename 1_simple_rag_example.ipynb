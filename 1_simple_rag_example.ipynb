{
  "cells": [
    {
      "cell_type": "markdown",
      "source": [
        "[![Open In Colab](https://colab.research.google.com/assets/colab-badge.svg)](https://colab.research.google.com/github/jmalbornoz/SimpleRAG/blob/master/1.-simple_rag_example.ipynb)"
      ],
      "metadata": {
        "id": "XZkGj7g1E9P6"
      },
      "id": "XZkGj7g1E9P6"
    },
    {
      "cell_type": "markdown",
      "id": "bd1795b9-f676-4a07-a92b-a8326ba44923",
      "metadata": {
        "id": "bd1795b9-f676-4a07-a92b-a8326ba44923"
      },
      "source": [
        "# Simple RAG Example\n",
        "## Dr José M Albornoz\n",
        "### April 2024"
      ]
    },
    {
      "cell_type": "code",
      "execution_count": 2,
      "id": "01b5322e-c846-4d18-9b54-d648338ab7b2",
      "metadata": {
        "colab": {
          "base_uri": "https://localhost:8080/"
        },
        "id": "01b5322e-c846-4d18-9b54-d648338ab7b2",
        "outputId": "1c2c98df-55f7-4d38-ffc2-0447c63e7a9f"
      },
      "outputs": [
        {
          "output_type": "stream",
          "name": "stdout",
          "text": [
            "Mounted at /content/drive\n"
          ]
        }
      ],
      "source": [
        "import shutil, os, subprocess\n",
        "from google.colab import drive\n",
        "drive.mount('/content/drive')\n",
        "os.chdir('/content/drive/MyDrive/RAG/')"
      ]
    },
    {
      "cell_type": "code",
      "execution_count": null,
      "id": "9515d4a2-7e13-4d76-acc3-b9178ad415cc",
      "metadata": {
        "id": "9515d4a2-7e13-4d76-acc3-b9178ad415cc"
      },
      "outputs": [],
      "source": [
        "! pip install openai langchain unstructured pdf2image tabulate libmagic num2words tiktoken ctransformers"
      ]
    },
    {
      "cell_type": "markdown",
      "id": "8192917f-613e-40b9-8fc2-558b16300fad",
      "metadata": {
        "id": "8192917f-613e-40b9-8fc2-558b16300fad"
      },
      "source": [
        "# CHROMADB SENTENCE TRANSFORMERS"
      ]
    },
    {
      "cell_type": "code",
      "execution_count": null,
      "id": "652558be-3d16-45d5-b1f5-70f4e31a860c",
      "metadata": {
        "id": "652558be-3d16-45d5-b1f5-70f4e31a860c"
      },
      "outputs": [],
      "source": [
        "#!pip install faiss-cpu\n",
        "!pip install sentence-transformers\n",
        "!pip install chromadb"
      ]
    },
    {
      "cell_type": "code",
      "execution_count": null,
      "id": "e10d4c9a-6d8b-4940-bbf2-8e6c0b8ba51b",
      "metadata": {
        "id": "e10d4c9a-6d8b-4940-bbf2-8e6c0b8ba51b"
      },
      "outputs": [],
      "source": [
        "! pip freeze | grep langchain"
      ]
    },
    {
      "cell_type": "code",
      "execution_count": null,
      "id": "5b637075-5e1a-45d9-b2c4-0939efb0d754",
      "metadata": {
        "id": "5b637075-5e1a-45d9-b2c4-0939efb0d754"
      },
      "outputs": [],
      "source": [
        "import chromadb\n",
        "\n",
        "client = chromadb.Client()\n",
        "#client.delete_collection(\"rag_demo\")\n",
        "collection = client.get_or_create_collection(\"rag_demo\")\n",
        "\n",
        "collection.add(\n",
        "    documents=[\"\"\" 19.10 Governing law and Jurisdiction. This Agreement, and any dispute or claim (including non-contractual disputes or claims) arising out of or in connection with it or its subject matter or formation, shall be governed by, and construed in accordance with, the laws of England. Each Party irrevocably agrees that the courts of England shall have exclusive jurisdiction to settle any dispute or claim (including non-contractual disputes or claims) arising out of or in connection with this Agreement or its subject matter or formation.\"\"\", \"This is a document which is dummy\"],\n",
        "    ids=[\"id1\", \"id2\"]\n",
        ")\n",
        "\n",
        "results = collection.query(\n",
        "    query_texts=[\"Governing law and Jurisdiction\"],\n",
        "    n_results=1\n",
        ")"
      ]
    },
    {
      "cell_type": "code",
      "execution_count": null,
      "id": "a289447a-e37f-40f5-9817-b83ee6c7bfea",
      "metadata": {
        "id": "a289447a-e37f-40f5-9817-b83ee6c7bfea"
      },
      "outputs": [],
      "source": [
        "from pprint import pprint\n",
        "context_extracted = results['documents'][0][0]\n",
        "pprint(context_extracted)"
      ]
    },
    {
      "cell_type": "code",
      "execution_count": null,
      "id": "0ca75eba-152c-47ac-8220-9e88073d0a8b",
      "metadata": {
        "id": "0ca75eba-152c-47ac-8220-9e88073d0a8b"
      },
      "outputs": [],
      "source": [
        "# Read JSON file\n",
        "import json\n",
        "with open('myconfig.json') as data_file:\n",
        "  myconfig = json.load(data_file)\n",
        "print(myconfig.keys())\n",
        "\n",
        "import os\n",
        "os.environ['OPENAI_API_KEY'] = myconfig['OPEN_API_KEY']"
      ]
    },
    {
      "cell_type": "markdown",
      "id": "c03033cc-ea0a-4a7a-9804-f1acf8081617",
      "metadata": {
        "id": "c03033cc-ea0a-4a7a-9804-f1acf8081617"
      },
      "source": [
        " # FIRST STEP FOR RAG"
      ]
    },
    {
      "cell_type": "code",
      "execution_count": null,
      "id": "729f9821-5d38-460d-9ef1-f389e829f921",
      "metadata": {
        "id": "729f9821-5d38-460d-9ef1-f389e829f921"
      },
      "outputs": [],
      "source": [
        "PRETTY_NAME=\"Ubuntu 22.04.2 LTS\"\n",
        "NAME=\"Ubuntu\"\n",
        "VERSION_ID=\"22.04\"\n",
        "VERSION=\"22.04.2 LTS (Jammy Jellyfish)\"\n",
        "VERSION_CODENAME=jammy\n",
        "ID=ubuntu\n",
        "ID_LIKE=debian\n",
        "HOME_URL=\"https://www.ubuntu.com/\"\n",
        "SUPPORT_URL=\"https://help.ubuntu.com/\"\n",
        "BUG_REPORT_URL=\"https://bugs.launchpad.net/ubuntu/\"\n",
        "PRIVACY_POLICY_URL=\"https://www.ubuntu.com/legal/terms-and-policies/privacy-policy\"\n",
        "UBUNTU_CODENAME=jammy"
      ]
    },
    {
      "cell_type": "code",
      "execution_count": null,
      "id": "08d5af2c-85e4-4142-85c1-1734cf7e22e0",
      "metadata": {
        "id": "08d5af2c-85e4-4142-85c1-1734cf7e22e0"
      },
      "outputs": [],
      "source": [
        "! lscpu"
      ]
    },
    {
      "cell_type": "code",
      "execution_count": null,
      "id": "309f1dda-7a8f-411f-8c5c-ca3cd901d1de",
      "metadata": {
        "id": "309f1dda-7a8f-411f-8c5c-ca3cd901d1de"
      },
      "outputs": [],
      "source": [
        "! python --version"
      ]
    },
    {
      "cell_type": "code",
      "execution_count": null,
      "id": "6cd4cdbe-4df3-4e40-a646-2d531f7ce024",
      "metadata": {
        "id": "6cd4cdbe-4df3-4e40-a646-2d531f7ce024"
      },
      "outputs": [],
      "source": [
        "! pip freeze"
      ]
    },
    {
      "cell_type": "markdown",
      "id": "3cf206a1-11d4-41bb-8314-4e781a071437",
      "metadata": {
        "id": "3cf206a1-11d4-41bb-8314-4e781a071437"
      },
      "source": [
        "# Llama-2-7B-Chat-GGML"
      ]
    },
    {
      "cell_type": "code",
      "execution_count": null,
      "id": "144dba8d-724d-491c-a8e0-d70494cab83b",
      "metadata": {
        "id": "144dba8d-724d-491c-a8e0-d70494cab83b"
      },
      "outputs": [],
      "source": [
        "from langchain.llms import CTransformers\n",
        "config = {'max_new_tokens': 20, 'temperature': 0}\n",
        "llm = CTransformers(model='TheBloke/Llama-2-7B-Chat-GGML', config=config)"
      ]
    },
    {
      "cell_type": "code",
      "execution_count": null,
      "id": "b5b16540-65e4-439b-abf6-7cbd9e94fa83",
      "metadata": {
        "id": "b5b16540-65e4-439b-abf6-7cbd9e94fa83"
      },
      "outputs": [],
      "source": [
        "from langchain import PromptTemplate, LLMChain\n",
        "template = \"\"\"[INST] <<SYS>>\n",
        "You are a helpful, respectful and honest assistant. Answer exactly in few words from the context\n",
        "<</SYS>>\n",
        "\n",
        "Answer the question below from context below :\n",
        "{context}\n",
        "{question} [/INST]\n",
        "\"\"\"\n",
        "\n",
        "question_p = \"\"\"Governing Law is construed in accordance with\"\"\"\n",
        "context_p = \"\"\" 19.10 Governing law and Jurisdiction. This Agreement, and any dispute or claim (including non-contractual disputes or claims) arising out of or in connection with it or its subject matter or formation, shall be governed by, and construed in accordance with, the laws of England. Each Party irrevocably agrees that the courts of England shall have exclusive jurisdiction to settle any dispute or claim (including non-contractual disputes or claims) arising out of or in connection with this Agreement or its subject matter or formation.\"\"\"\n",
        "\n",
        "prompt = PromptTemplate(template=template, input_variables=[\"question\",\"context\"])\n",
        "llm_chain = LLMChain(prompt=prompt, llm=llm)\n",
        "response = llm_chain.run({\"question\":question_p,\"context\":context_p})\n",
        "response"
      ]
    },
    {
      "cell_type": "code",
      "execution_count": null,
      "id": "93349386-ece3-4520-8b50-de3b5bda40e9",
      "metadata": {
        "id": "93349386-ece3-4520-8b50-de3b5bda40e9"
      },
      "outputs": [],
      "source": [
        "from langchain.llms import CTransformers\n",
        "config = {'max_new_tokens': 20, 'temperature': 0}\n",
        "llm = CTransformers(model='TheBloke/falcon-7b-instruct-GGML', config=config)"
      ]
    },
    {
      "cell_type": "code",
      "execution_count": null,
      "id": "fd42deed-47b1-4a9d-ae74-ab77c03bd158",
      "metadata": {
        "id": "fd42deed-47b1-4a9d-ae74-ab77c03bd158"
      },
      "outputs": [],
      "source": [
        "rom langchain import PromptTemplate, LLMChain\n",
        "template = \"\"\"\n",
        "User: {context}\n",
        "User: {question}\n",
        "Assistant:\n",
        "\"\"\"\n",
        "\n",
        "question_p = \"\"\"Governing Law is construed in accordance with\"\"\"\n",
        "context_p = \"\"\" 19.10 Governing law and Jurisdiction. This Agreement, and any dispute or claim (including non-contractual disputes or claims) arising out of or in connection with it or its subject matter or formation, shall be governed by, and construed in accordance with, the laws of England. Each Party irrevocably agrees that the courts of England shall have exclusive jurisdiction to settle any dispute or claim (including non-contractual disputes or claims) arising out of or in connection with this Agreement or its subject matter or formation.\"\"\"\n",
        "\n",
        "prompt = PromptTemplate(template=template, input_variables=[\"question\",\"context\"])\n",
        "llm_chain = LLMChain(prompt=prompt, llm=llm)\n",
        "response = llm_chain.run({\"question\":question_p,\"context\":context_p})\n",
        "response"
      ]
    },
    {
      "cell_type": "markdown",
      "id": "6faada8c-8ab2-42e9-be96-e51f56da0fd8",
      "metadata": {
        "id": "6faada8c-8ab2-42e9-be96-e51f56da0fd8"
      },
      "source": [
        "# OPENAI 3.5"
      ]
    },
    {
      "cell_type": "code",
      "execution_count": null,
      "id": "ab2c01b4-1f52-443d-a229-4097ee696019",
      "metadata": {
        "id": "ab2c01b4-1f52-443d-a229-4097ee696019"
      },
      "outputs": [],
      "source": [
        "from langchain.llms import OpenAI\n",
        "from langchain import PromptTemplate, LLMChain\n",
        "#davinci = OpenAI(model_name='text-davinci-003')\n",
        "gpt35 = OpenAI(model_name='gpt-3.5-turbo-0613')"
      ]
    },
    {
      "cell_type": "code",
      "execution_count": null,
      "id": "db3c6275-21b1-479b-bcb4-572f4797eb7f",
      "metadata": {
        "id": "db3c6275-21b1-479b-bcb4-572f4797eb7f"
      },
      "outputs": [],
      "source": [
        "from langchain import PromptTemplate, LLMChain\n",
        "template = \"\"\"\n",
        "Answer the question below from context below :\n",
        "{context}\n",
        "{question}\n",
        "\"\"\"\n",
        "\n",
        "question_p = \"\"\"Governing Law is construed in accordance with\"\"\"\n",
        "context_p = \"\"\" 19.10 Governing law and Jurisdiction. This Agreement, and any dispute or claim (including non-contractual disputes or claims) arising out of or in connection with it or its subject matter or formation, shall be governed by, and construed in accordance with, the laws of England. Each Party irrevocably agrees that the courts of England shall have exclusive jurisdiction to settle any dispute or claim (including non-contractual disputes or claims) arising out of or in connection with this Agreement or its subject matter or formation.\"\"\"\n",
        "\n",
        "prompt = PromptTemplate(template=template, input_variables=[\"question\",\"context\"])\n",
        "llm_chain = LLMChain(prompt=prompt, llm=gpt35)\n",
        "response = llm_chain.run({\"question\":question_p,\"context\":context_p})\n",
        "response"
      ]
    }
  ],
  "metadata": {
    "kernelspec": {
      "display_name": "Python 3 (ipykernel)",
      "language": "python",
      "name": "python3"
    },
    "language_info": {
      "codemirror_mode": {
        "name": "ipython",
        "version": 3
      },
      "file_extension": ".py",
      "mimetype": "text/x-python",
      "name": "python",
      "nbconvert_exporter": "python",
      "pygments_lexer": "ipython3",
      "version": "3.11.7"
    },
    "colab": {
      "provenance": []
    }
  },
  "nbformat": 4,
  "nbformat_minor": 5
}